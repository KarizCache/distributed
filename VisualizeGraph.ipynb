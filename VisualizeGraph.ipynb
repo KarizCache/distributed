{
 "cells": [
  {
   "cell_type": "code",
   "execution_count": 24,
   "metadata": {},
   "outputs": [],
   "source": [
    "import graph_tool.all as gt\n",
    "\n",
    "g = gt.Graph(directed=True)\n",
    "\n",
    "v_vid = {}\n",
    "with open('/opt/dask-distributed/benchmark/dag.g', 'r') as fd:\n",
    "    gstr = fd.read().split('\\n')\n",
    "    \n",
    "    for gl in gstr:\n",
    "        if gl.startswith('v'):\n",
    "            if gl.split(',')[1] not in v_vid:\n",
    "                v = g.add_vertex()\n",
    "                v_vid[gl.split(',')[1]] = v\n",
    "        if gl.startswith('e'):\n",
    "            vsrc = v_vid[gl.split(',')[1]]\n",
    "            vdst = v_vid[gl.split(',')[2]]\n",
    "            g.add_edge(vsrc, vdst)\n",
    "                "
   ]
  },
  {
   "cell_type": "code",
   "execution_count": 25,
   "metadata": {},
   "outputs": [
    {
     "name": "stdout",
     "output_type": "stream",
     "text": [
      "2 0\n",
      "1 1\n",
      "2 5\n",
      "1 2\n",
      "2 5\n",
      "1 2\n",
      "0 5\n",
      "0 2\n",
      "0 2\n",
      "1 1\n",
      "1 1\n",
      "0 5\n",
      "0 2\n",
      "2 5\n",
      "1 1\n",
      "10 1\n",
      "1 2\n",
      "10 1\n",
      "1 1\n",
      "1 1\n",
      "0 2\n",
      "1 1\n",
      "1 1\n",
      "1 1\n",
      "0 2\n",
      "1 1\n",
      "2 1\n",
      "0 2\n",
      "0 2\n",
      "1 2\n",
      "0 2\n",
      "2 5\n",
      "10 1\n",
      "1 1\n",
      "0 2\n",
      "2 1\n",
      "1 1\n",
      "1 1\n",
      "0 2\n",
      "1 1\n",
      "1 2\n",
      "10 1\n",
      "1 1\n",
      "1 1\n",
      "0 2\n",
      "1 2\n",
      "0 2\n",
      "1 2\n",
      "1 1\n",
      "2 0\n",
      "2 5\n",
      "10 1\n",
      "1 2\n",
      "2 1\n",
      "1 2\n",
      "0 2\n",
      "0 2\n",
      "0 2\n",
      "2 1\n",
      "2 1\n",
      "0 5\n",
      "0 2\n",
      "10 1\n",
      "1 1\n",
      "1 1\n",
      "1 1\n",
      "1 5\n",
      "2 1\n",
      "1 2\n",
      "1 1\n",
      "0 2\n",
      "0 2\n",
      "1 2\n",
      "1 1\n",
      "2 0\n",
      "2 5\n",
      "1 1\n",
      "10 1\n",
      "1 2\n",
      "1 1\n",
      "10 1\n",
      "1 1\n",
      "2 1\n",
      "0 2\n",
      "0 2\n",
      "2 1\n",
      "1 5\n",
      "1 1\n",
      "1 1\n",
      "1 5\n",
      "1 1\n",
      "0 5\n",
      "1 2\n",
      "10 1\n",
      "1 2\n",
      "0 2\n",
      "1 2\n",
      "2 0\n",
      "2 0\n",
      "0 5\n",
      "1 1\n",
      "5 1\n",
      "1 1\n",
      "2 1\n",
      "1 1\n",
      "0 2\n",
      "0 2\n",
      "4 1\n",
      "2 1\n",
      "0 2\n",
      "1 1\n",
      "1 1\n",
      "1 1\n",
      "1 1\n",
      "0 2\n",
      "1 2\n",
      "1 1\n",
      "5 1\n",
      "10 1\n",
      "1 1\n"
     ]
    }
   ],
   "source": [
    "indegrees = []\n",
    "\n",
    "outdegrees = []\n",
    "\n",
    "for v in g.vertices():\n",
    "    print(v.in_degree(), v.out_degree())\n",
    "    indegrees.append(v.in_degree())\n",
    "    outdegrees.append(v.out_degree())"
   ]
  },
  {
   "cell_type": "code",
   "execution_count": 26,
   "metadata": {},
   "outputs": [
    {
     "data": {
      "text/plain": [
       "<Graph object, directed, with 120 vertices and 212 edges, at 0x7f445fa454c0>"
      ]
     },
     "execution_count": 26,
     "metadata": {},
     "output_type": "execute_result"
    }
   ],
   "source": [
    "g"
   ]
  },
  {
   "cell_type": "code",
   "execution_count": 30,
   "metadata": {},
   "outputs": [
    {
     "data": {
      "text/plain": [
       "<VertexPropertyMap object with value type 'vector<double>', for Graph 0x7f445fa454c0, at 0x7f445fa45790>"
      ]
     },
     "execution_count": 30,
     "metadata": {},
     "output_type": "execute_result"
    }
   ],
   "source": [
    "gt.graph_draw(g, vertex_text=None, output=\"two-nodes.png\", output_size=(1000, 1000))"
   ]
  },
  {
   "cell_type": "code",
   "execution_count": null,
   "metadata": {},
   "outputs": [],
   "source": []
  }
 ],
 "metadata": {
  "kernelspec": {
   "display_name": "Python 3",
   "language": "python",
   "name": "python3"
  },
  "language_info": {
   "codemirror_mode": {
    "name": "ipython",
    "version": 3
   },
   "file_extension": ".py",
   "mimetype": "text/x-python",
   "name": "python",
   "nbconvert_exporter": "python",
   "pygments_lexer": "ipython3",
   "version": "3.8.7"
  }
 },
 "nbformat": 4,
 "nbformat_minor": 4
}
